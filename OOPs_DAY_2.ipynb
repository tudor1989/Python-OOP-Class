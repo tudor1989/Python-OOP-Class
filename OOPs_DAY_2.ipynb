{
  "nbformat": 4,
  "nbformat_minor": 0,
  "metadata": {
    "colab": {
      "provenance": []
    },
    "kernelspec": {
      "name": "python3",
      "display_name": "Python 3"
    },
    "language_info": {
      "name": "python"
    }
  },
  "cells": [
    {
      "cell_type": "code",
      "execution_count": 1,
      "metadata": {
        "id": "Yv0L4kwIErE6",
        "outputId": "9a6f93b9-4b2c-4d67-9f7e-90edb3ea7fd7",
        "colab": {
          "base_uri": "https://localhost:8080/"
        }
      },
      "outputs": [
        {
          "output_type": "stream",
          "name": "stdout",
          "text": [
            "Name: Ram\n",
            "Age: 22\n",
            "Name: Ram\n",
            "Age: 22\n",
            "Name: Ram\n",
            "Age: 22\n"
          ]
        }
      ],
      "source": [
        "class Myclass: # NON parameterized constructor\n",
        "  def __init__(self):  #special method, will be called when the obj is created\n",
        "    self.name = \"Ram\"\n",
        "    self.age = 22\n",
        "\n",
        "  def display(self):\n",
        "    print(\"Name:\", self.name)\n",
        "    print(\"Age:\", self.age)\n",
        "\n",
        "\n",
        "obj1 = Myclass()\n",
        "obj2 = Myclass()\n",
        "obj3 = Myclass()\n",
        "\n",
        "obj1.display()\n",
        "obj2.display()\n",
        "obj3.display()"
      ]
    },
    {
      "cell_type": "code",
      "source": [
        "class Myclass:    #parameterized conscructor\n",
        "  def __init__(self, name, age):  #special method, will be called when the obj is created\n",
        "    self.name = name\n",
        "    self.age = age\n",
        "\n",
        "  def display(self):\n",
        "    print(\"Name:\", self.name)\n",
        "    print(\"Age:\", self.age)\n",
        "\n",
        "obj1 = Myclass(\"Shiva\", 22)\n",
        "obj2 = Myclass(\"John\", 21)\n",
        "obj3 = Myclass(\"Geetha\", 23)\n",
        "\n",
        "obj1.display()\n",
        "obj2.display()\n",
        "obj3.display()"
      ],
      "metadata": {
        "id": "hqg9nhL8XAbt",
        "outputId": "ff44e1d2-02c4-4322-ef83-f9590a61932f",
        "colab": {
          "base_uri": "https://localhost:8080/"
        }
      },
      "execution_count": 2,
      "outputs": [
        {
          "output_type": "stream",
          "name": "stdout",
          "text": [
            "Name: Shiva\n",
            "Age: 22\n",
            "Name: John\n",
            "Age: 21\n",
            "Name: Geetha\n",
            "Age: 23\n"
          ]
        }
      ]
    },
    {
      "cell_type": "code",
      "source": [
        "class Myclass:               # Default constructor\n",
        "  def __init__(self, na=\"Default Name\", ag=100):  #special method, will be called when the obj is created\n",
        "    self.name = na\n",
        "    self.age = ag\n",
        "\n",
        "  def display(self):\n",
        "    print(\"Name:\", self.name)\n",
        "    print(\"Age:\", self.age)\n",
        "\n",
        "\n",
        "obj1 = Myclass()\n",
        "obj2 = Myclass(\"John\", 21)\n",
        "obj3 = Myclass(\"Geetha\", 23)\n",
        "obj4 = Myclass()\n",
        "\n",
        "obj1.display()\n",
        "obj2.display()\n",
        "obj3.display()\n",
        "obj4,display()"
      ],
      "metadata": {
        "id": "_Fs_f5xbbiTu",
        "outputId": "d8de65ba-a203-4873-dff8-f79b42221480",
        "colab": {
          "base_uri": "https://localhost:8080/"
        }
      },
      "execution_count": 9,
      "outputs": [
        {
          "output_type": "stream",
          "name": "stdout",
          "text": [
            "Name: Default Name\n",
            "Age: 100\n",
            "Name: John\n",
            "Age: 21\n",
            "Name: Geetha\n",
            "Age: 23\n"
          ]
        },
        {
          "output_type": "execute_result",
          "data": {
            "text/plain": [
              "(<__main__.Myclass at 0x7d6ba3266a10>, None)"
            ]
          },
          "metadata": {},
          "execution_count": 9
        }
      ]
    },
    {
      "cell_type": "code",
      "source": [
        "class Circle:\n",
        "  def __init__(self,rad,res):\n",
        "    self.rad=rad\n",
        "    self.res=res\n",
        "\n",
        "  def area_cir(self):\n",
        "    self.res= 3.14 * self.rad * self.rad\n",
        "    print(\"Area of circle:\", self.res)\n",
        "\n",
        "  def perimeter_cir(self):\n",
        "    self.res= 2 * 3.14 * self.rad\n",
        "    print(\"Perimeter of circle:\", self.res)\n",
        "\n",
        "\n",
        "cir1=Circle(3,0)\n",
        "cir2=Circle(5,0)\n",
        "cir3=Circle(6,0)\n",
        "\n",
        "cir1.area_cir()\n",
        "cir1.perimeter_cir()\n",
        "cir2.area_cir()\n",
        "cir2.perimeter_cir()\n",
        "cir3.area_cir()\n",
        "cir3.perimeter_cir()"
      ],
      "metadata": {
        "id": "lPU3KIiA9LFg",
        "outputId": "c8216f3a-96b5-4b44-d78a-16f0a006d050",
        "colab": {
          "base_uri": "https://localhost:8080/"
        }
      },
      "execution_count": 11,
      "outputs": [
        {
          "output_type": "stream",
          "name": "stdout",
          "text": [
            "Area of circle: 28.259999999999998\n",
            "Perimeter of circle: 18.84\n",
            "Area of circle: 78.5\n",
            "Perimeter of circle: 31.400000000000002\n",
            "Area of circle: 113.03999999999999\n",
            "Perimeter of circle: 37.68\n"
          ]
        }
      ]
    },
    {
      "cell_type": "code",
      "source": [
        "class Student:\n",
        "  collegename = \"KVS\"\n",
        "  def __init__(self,name , rollno,age):\n",
        "    self.name = name\n",
        "    self.rollno = rollno\n",
        "    self.age = age\n",
        "\n",
        "  def display(self):\n",
        "    print(\"Name:\", self.name)\n",
        "    print(\"Rollno:\", self.rollno)\n",
        "    print(\"Age:\", self.age)\n",
        "    print(Student.collegename)\n",
        "\n",
        "s1= Student(\"Rahul\",100,21)\n",
        "s2= Student(\"Naga\",101,20)\n",
        "s1.name = \"Raj\"\n",
        "s2.age= 23\n",
        "Student.collegename = \"ABC\"\n",
        "print(s1.collegename)\n",
        "\n",
        "s1.display()\n",
        "s2.display()"
      ],
      "metadata": {
        "id": "uPpbe1LL_bPj",
        "outputId": "3cde42f5-ddfb-41df-d553-4f93e28c8ec4",
        "colab": {
          "base_uri": "https://localhost:8080/"
        }
      },
      "execution_count": 13,
      "outputs": [
        {
          "output_type": "stream",
          "name": "stdout",
          "text": [
            "Name: Raj\n",
            "Rollno: 100\n",
            "Age: 21\n",
            "ABC\n",
            "Name: Naga\n",
            "Rollno: 101\n",
            "Age: 23\n",
            "ABC\n"
          ]
        }
      ]
    },
    {
      "cell_type": "code",
      "source": [
        "#built in class functions\n",
        "\n",
        "class Emp:\n",
        "  def __int__(self,name,age,sal):\n",
        "    self.name = name\n",
        "    self.age = age\n",
        "    self.sal = sal\n",
        "\n",
        "e1 = Emp(\"Naga\",23,20000)\n",
        "e2 = Emp(\"Geetha\",20,30000)\n",
        "\n",
        "k = getattr(e1,\"age\")\n",
        "print(k)\n",
        "\n",
        "setattr(e2,'name','Kavin')\n",
        "print(e2.name)\n",
        "\n",
        "delattr(e2,'age')\n",
        "print(e2.age)\n",
        "\n",
        "print(hasattr(e2,'age'))"
      ],
      "metadata": {
        "id": "CKhKA1qvD-vb",
        "outputId": "1293e317-773e-419a-f08a-debcc94a5e89",
        "colab": {
          "base_uri": "https://localhost:8080/",
          "height": 211
        }
      },
      "execution_count": 15,
      "outputs": [
        {
          "output_type": "error",
          "ename": "TypeError",
          "evalue": "Emp() takes no arguments",
          "traceback": [
            "\u001b[0;31m---------------------------------------------------------------------------\u001b[0m",
            "\u001b[0;31mTypeError\u001b[0m                                 Traceback (most recent call last)",
            "\u001b[0;32m<ipython-input-15-c44c634ce754>\u001b[0m in \u001b[0;36m<cell line: 9>\u001b[0;34m()\u001b[0m\n\u001b[1;32m      7\u001b[0m     \u001b[0mself\u001b[0m\u001b[0;34m.\u001b[0m\u001b[0msal\u001b[0m \u001b[0;34m=\u001b[0m \u001b[0msal\u001b[0m\u001b[0;34m\u001b[0m\u001b[0;34m\u001b[0m\u001b[0m\n\u001b[1;32m      8\u001b[0m \u001b[0;34m\u001b[0m\u001b[0m\n\u001b[0;32m----> 9\u001b[0;31m \u001b[0me1\u001b[0m \u001b[0;34m=\u001b[0m \u001b[0mEmp\u001b[0m\u001b[0;34m(\u001b[0m\u001b[0;34m\"Naga\"\u001b[0m\u001b[0;34m,\u001b[0m\u001b[0;36m23\u001b[0m\u001b[0;34m,\u001b[0m\u001b[0;36m20000\u001b[0m\u001b[0;34m)\u001b[0m\u001b[0;34m\u001b[0m\u001b[0;34m\u001b[0m\u001b[0m\n\u001b[0m\u001b[1;32m     10\u001b[0m \u001b[0me2\u001b[0m \u001b[0;34m=\u001b[0m \u001b[0mEmp\u001b[0m\u001b[0;34m(\u001b[0m\u001b[0;34m\"Geetha\"\u001b[0m\u001b[0;34m,\u001b[0m\u001b[0;36m20\u001b[0m\u001b[0;34m,\u001b[0m\u001b[0;36m30000\u001b[0m\u001b[0;34m)\u001b[0m\u001b[0;34m\u001b[0m\u001b[0;34m\u001b[0m\u001b[0m\n\u001b[1;32m     11\u001b[0m \u001b[0;34m\u001b[0m\u001b[0m\n",
            "\u001b[0;31mTypeError\u001b[0m: Emp() takes no arguments"
          ]
        }
      ]
    },
    {
      "cell_type": "code",
      "source": [
        "#built in class attributes\n",
        "\n",
        "class Emp:\n",
        "  '''this is an example of emp class'''\n",
        "  def __int__(self,name,age,sal):\n",
        "    self.name = name\n",
        "    self.age = age\n",
        "    self.sal = sal\n",
        "\n",
        "e1 = Emp(\"Naga\",23,20000)\n",
        "e2 = Emp(\"Geetha\",20,30000)\n",
        "\n",
        "print(Emp.__doc__)\n",
        "print(Emp.__name__)\n",
        "print(Emp.__module__)\n",
        "print(Emp.__dict__)\n",
        "\n",
        "print(e1.__dict__)"
      ],
      "metadata": {
        "id": "3-gScQoVIfVy",
        "outputId": "bd9255c9-352a-48dc-88f2-df06bad49cb2",
        "colab": {
          "base_uri": "https://localhost:8080/",
          "height": 211
        }
      },
      "execution_count": 16,
      "outputs": [
        {
          "output_type": "error",
          "ename": "TypeError",
          "evalue": "Emp() takes no arguments",
          "traceback": [
            "\u001b[0;31m---------------------------------------------------------------------------\u001b[0m",
            "\u001b[0;31mTypeError\u001b[0m                                 Traceback (most recent call last)",
            "\u001b[0;32m<ipython-input-16-ff575e393663>\u001b[0m in \u001b[0;36m<cell line: 10>\u001b[0;34m()\u001b[0m\n\u001b[1;32m      8\u001b[0m     \u001b[0mself\u001b[0m\u001b[0;34m.\u001b[0m\u001b[0msal\u001b[0m \u001b[0;34m=\u001b[0m \u001b[0msal\u001b[0m\u001b[0;34m\u001b[0m\u001b[0;34m\u001b[0m\u001b[0m\n\u001b[1;32m      9\u001b[0m \u001b[0;34m\u001b[0m\u001b[0m\n\u001b[0;32m---> 10\u001b[0;31m \u001b[0me1\u001b[0m \u001b[0;34m=\u001b[0m \u001b[0mEmp\u001b[0m\u001b[0;34m(\u001b[0m\u001b[0;34m\"Naga\"\u001b[0m\u001b[0;34m,\u001b[0m\u001b[0;36m23\u001b[0m\u001b[0;34m,\u001b[0m\u001b[0;36m20000\u001b[0m\u001b[0;34m)\u001b[0m\u001b[0;34m\u001b[0m\u001b[0;34m\u001b[0m\u001b[0m\n\u001b[0m\u001b[1;32m     11\u001b[0m \u001b[0me2\u001b[0m \u001b[0;34m=\u001b[0m \u001b[0mEmp\u001b[0m\u001b[0;34m(\u001b[0m\u001b[0;34m\"Geetha\"\u001b[0m\u001b[0;34m,\u001b[0m\u001b[0;36m20\u001b[0m\u001b[0;34m,\u001b[0m\u001b[0;36m30000\u001b[0m\u001b[0;34m)\u001b[0m\u001b[0;34m\u001b[0m\u001b[0;34m\u001b[0m\u001b[0m\n\u001b[1;32m     12\u001b[0m \u001b[0;34m\u001b[0m\u001b[0m\n",
            "\u001b[0;31mTypeError\u001b[0m: Emp() takes no arguments"
          ]
        }
      ]
    }
  ]
}