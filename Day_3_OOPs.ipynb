{
  "nbformat": 4,
  "nbformat_minor": 0,
  "metadata": {
    "colab": {
      "provenance": []
    },
    "kernelspec": {
      "name": "python3",
      "display_name": "Python 3"
    },
    "language_info": {
      "name": "python"
    }
  },
  "cells": [
    {
      "cell_type": "code",
      "execution_count": null,
      "metadata": {
        "id": "B64j-PxHiVMV",
        "outputId": "741bb722-1ca0-4bdd-acac-3b27e208d6f7",
        "colab": {
          "base_uri": "https://localhost:8080/"
        }
      },
      "outputs": [
        {
          "output_type": "stream",
          "name": "stdout",
          "text": [
            "1\n",
            "2\n",
            "3\n",
            "UVCE\n"
          ]
        }
      ],
      "source": [
        "#class methods\n",
        "\n",
        "class Student:\n",
        "  student_count = 0\n",
        "  collegename = \"UVCE\"\n",
        "\n",
        "  def __init__(self, name, age):\n",
        "    self.name = name\n",
        "    self.age = age\n",
        "    Student.student_count = Student.student_count + 1\n",
        "    print(Student.student_count)\n",
        "\n",
        "  @classmethod\n",
        "  def get_college(cls):\n",
        "    print(cls.collegename)\n",
        "\n",
        "s1 = Student('Ram',21)\n",
        "s2 = Student('John',20)\n",
        "s3 = Student('Sam',22)\n",
        "\n",
        "Student.get_college()\n"
      ]
    },
    {
      "cell_type": "code",
      "source": [
        "#inheritance\n",
        "\n",
        "class Parent:\n",
        "  bonus= 2000\n",
        "  def display(self):\n",
        "    print(\"this is parent class method\")\n",
        "\n",
        "class Child(Parent):\n",
        "  bonus1= 5000\n",
        "  def show(self):\n",
        "    print(\"this is a child class method\")\n",
        "\n",
        "\n",
        "p1= Parent()\n",
        "c1 = Child()\n",
        "\n",
        "p1.display()\n",
        "c1.show()\n",
        "\n",
        "print(p1.bonus)\n",
        "print(c1.bonus1)"
      ],
      "metadata": {
        "id": "u6uuwSn1swJK",
        "outputId": "3004bb4c-9868-4c5f-9123-b3dc2527a65a",
        "colab": {
          "base_uri": "https://localhost:8080/"
        }
      },
      "execution_count": null,
      "outputs": [
        {
          "output_type": "stream",
          "name": "stdout",
          "text": [
            "this is parent class method\n",
            "this is a child class method\n",
            "2000\n",
            "5000\n"
          ]
        }
      ]
    },
    {
      "cell_type": "code",
      "source": [
        "from typing import ParamSpecArgs\n",
        "#constructor in inheritance\n",
        "\n",
        "class Father:\n",
        "  def __init__self(self):\n",
        "    print(\"father constructor called\")\n",
        "    self.vehicle = \"scooter\"\n",
        "\n",
        "\n",
        "class Son(Father):\n",
        "  def __init__self(self):\n",
        "    print(\"son constructor called\")\n",
        "    self.vehicle = \"RE\"\n",
        "\n",
        "s = Son()\n",
        "print(s.vehicle)\n",
        "\n",
        "f = Father()\n",
        "print(f.vehicle)"
      ],
      "metadata": {
        "id": "5WAD75amuj5M",
        "outputId": "34b6b95d-1825-46c1-d8d5-399217daa26d",
        "colab": {
          "base_uri": "https://localhost:8080/",
          "height": 211
        }
      },
      "execution_count": 3,
      "outputs": [
        {
          "output_type": "error",
          "ename": "AttributeError",
          "evalue": "'Son' object has no attribute 'vehicle'",
          "traceback": [
            "\u001b[0;31m---------------------------------------------------------------------------\u001b[0m",
            "\u001b[0;31mAttributeError\u001b[0m                            Traceback (most recent call last)",
            "\u001b[0;32m<ipython-input-3-40ec7ca29098>\u001b[0m in \u001b[0;36m<cell line: 0>\u001b[0;34m()\u001b[0m\n\u001b[1;32m     14\u001b[0m \u001b[0;34m\u001b[0m\u001b[0m\n\u001b[1;32m     15\u001b[0m \u001b[0ms\u001b[0m \u001b[0;34m=\u001b[0m \u001b[0mSon\u001b[0m\u001b[0;34m(\u001b[0m\u001b[0;34m)\u001b[0m\u001b[0;34m\u001b[0m\u001b[0;34m\u001b[0m\u001b[0m\n\u001b[0;32m---> 16\u001b[0;31m \u001b[0mprint\u001b[0m\u001b[0;34m(\u001b[0m\u001b[0ms\u001b[0m\u001b[0;34m.\u001b[0m\u001b[0mvehicle\u001b[0m\u001b[0;34m)\u001b[0m\u001b[0;34m\u001b[0m\u001b[0;34m\u001b[0m\u001b[0m\n\u001b[0m\u001b[1;32m     17\u001b[0m \u001b[0;34m\u001b[0m\u001b[0m\n\u001b[1;32m     18\u001b[0m \u001b[0mf\u001b[0m \u001b[0;34m=\u001b[0m \u001b[0mFather\u001b[0m\u001b[0;34m(\u001b[0m\u001b[0;34m)\u001b[0m\u001b[0;34m\u001b[0m\u001b[0;34m\u001b[0m\u001b[0m\n",
            "\u001b[0;31mAttributeError\u001b[0m: 'Son' object has no attribute 'vehicle'"
          ]
        }
      ]
    },
    {
      "cell_type": "code",
      "source": [
        "#super method\n",
        "\n"
      ],
      "metadata": {
        "id": "ppFG0Nyh6b70"
      },
      "execution_count": null,
      "outputs": []
    }
  ]
}