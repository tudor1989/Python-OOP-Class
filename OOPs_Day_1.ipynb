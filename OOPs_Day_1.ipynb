{
  "nbformat": 4,
  "nbformat_minor": 0,
  "metadata": {
    "colab": {
      "provenance": []
    },
    "kernelspec": {
      "name": "python3",
      "display_name": "Python 3"
    },
    "language_info": {
      "name": "python"
    }
  },
  "cells": [
    {
      "cell_type": "code",
      "source": [
        "class Calculator:\n",
        "  n1=0 # attribute\n",
        "  n2=0\n",
        "  res=0\n",
        "\n",
        "  def add(self, no1,no2):  #method\n",
        "    pass\n",
        "\n",
        "  def sub(self, no1,no2):\n",
        "    pass\n",
        "\n",
        "  def mul(self, no1,no2):\n",
        "    pass\n",
        "\n",
        "  def div(self, no1,no2):\n",
        "    pass\n",
        "\n",
        "                                # end of class\n",
        "\n",
        "\n",
        "c1 = Calculator()  # obj creation\n",
        "c2 = Calculator()\n",
        "\n",
        "c1.add()\n",
        "c2.mul()"
      ],
      "metadata": {
        "id": "c0gr3U9SDyLm"
      },
      "execution_count": null,
      "outputs": []
    }
  ]
}