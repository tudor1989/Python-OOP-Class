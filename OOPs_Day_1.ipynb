{
  "nbformat": 4,
  "nbformat_minor": 0,
  "metadata": {
    "colab": {
      "provenance": []
    },
    "kernelspec": {
      "name": "python3",
      "display_name": "Python 3"
    },
    "language_info": {
      "name": "python"
    }
  },
  "cells": [
    {
      "cell_type": "code",
      "source": [
        "class Calculator:\n",
        "  n1=0 # attribute\n",
        "  n2=0\n",
        "  res=0\n",
        "\n",
        "  def __init__(self): # constructor\n",
        "    self.n1=0\n",
        "    self.n2=0\n",
        "    self.res=0\n",
        "\n",
        "  def add(self, no1,no2):  #method\n",
        "    pass\n",
        "\n",
        "  def sub(self, no1,no2):\n",
        "    pass\n",
        "\n",
        "  def mul(self, no1,no2):\n",
        "    pass\n",
        "\n",
        "  def div(self, no1,no2):\n",
        "    pass\n",
        "\n",
        "                                # end of class\n",
        "\n",
        "\n",
        "c1 = Calculator(20,30)  # obj creation\n",
        "c2 = Calculator()\n",
        "c3 = Calculator()\n",
        "\n",
        "c1.add()\n",
        "c2.mul()"
      ],
      "metadata": {
        "id": "c0gr3U9SDyLm"
      },
      "execution_count": null,
      "outputs": []
    },
    {
      "cell_type": "code",
      "source": [
        "class Sample:\n",
        "\n",
        "\n",
        "  def __init__(self):\n",
        "    self.data = 10\n",
        "\n",
        "\n",
        "  def input_data(self):\n",
        "    self.data = input(\"Enter some text : \")\n",
        "\n",
        "  def process_data(self):\n",
        "    self.data = self.data.upper()\n",
        "\n",
        "  def output_Data(self):\n",
        "    print(self.data)\n",
        "\n",
        "\n",
        "\n",
        "#obj creation\n",
        "\n",
        "obj = Sample()\n",
        "obj.input_data()\n",
        "obj.process.data()\n",
        "obj.output_data()\n",
        "\n",
        "obj1 = Sample()\n",
        "obj1.input_data()\n",
        "obj1.process_data()\n",
        "obj1.output_data()"
      ],
      "metadata": {
        "id": "0zbWiSqzCK2w"
      },
      "execution_count": null,
      "outputs": []
    },
    {
      "cell_type": "code",
      "source": [
        "class Calculator:\n",
        "  def __init__(self, num1, num2):\n",
        "    self.num1 = num1\n",
        "    self.num2 = num2\n",
        "\n",
        "\n",
        "  def add(self):\n",
        "    return self.num1 + self.num2\n",
        "\n",
        "  def sub(self):\n",
        "    return self.num1 - self.num2\n",
        "\n",
        "  def mul(self):\n",
        "    return self.num1 * self.num2\n",
        "\n",
        "  def div(self):\n",
        "    if self.num2 != 0:\n",
        "      return self.num1 / self.num2\n",
        "    else:\n",
        "      return \"Division by zero is not possible\"\n",
        "\n",
        "\n",
        "c1 = Calculator(10,5)\n",
        "c1.add()\n",
        "c1.sub()\n",
        "c1.mul()\n",
        "c1.div()\n",
        "\n",
        "c2 = Calculator(100,20)\n",
        "c2.add()\n",
        "c2.sub()\n",
        "c2.mul()\n",
        "c2.div()"
      ],
      "metadata": {
        "id": "qERIuXycEujv",
        "outputId": "521a247b-d410-45db-dec6-7d998837ae09",
        "colab": {
          "base_uri": "https://localhost:8080/"
        }
      },
      "execution_count": 9,
      "outputs": [
        {
          "output_type": "execute_result",
          "data": {
            "text/plain": [
              "5.0"
            ]
          },
          "metadata": {},
          "execution_count": 9
        }
      ]
    },
    {
      "cell_type": "code",
      "source": [
        "class Calculator:\n",
        "  #n1,n2, res = 0, 0, 0 #atributes\n",
        "  def __init__(self, n1, n2):  #Constructor\n",
        "    self.n1 = n1\n",
        "    self.n2 = n2\n",
        "    self.res = 0\n",
        "\n",
        "    #methods\n",
        "  def add(self):\n",
        "    #print(self.n1+self.n2)\n",
        "    return self.n1+self.n2\n",
        "\n",
        "  def sub(self):\n",
        "    return self.n1-self.n2\n",
        "\n",
        "  def mul(self):\n",
        "    return self.n1*self.n2\n",
        "\n",
        "  def div(self):\n",
        "    if self.n2>0 :\n",
        "      return self.n1/self.n2\n",
        "    else:\n",
        "      return 0\n",
        "\n",
        "#end of the class definition\n",
        "\n",
        "c1 = Calculator(5,6)  #object creation\n",
        "c2 = Calculator(20,0)\n",
        "\n",
        "print(c1.add())  #calling a method from an object\n",
        "print(c2.mul())\n",
        "print(c2.div())\n"
      ],
      "metadata": {
        "id": "1QcpGOcNHJoY",
        "outputId": "9761d7f5-2f5a-4040-92e5-870deda04c82",
        "colab": {
          "base_uri": "https://localhost:8080/"
        }
      },
      "execution_count": 10,
      "outputs": [
        {
          "output_type": "stream",
          "name": "stdout",
          "text": [
            "11\n",
            "0\n",
            "0\n"
          ]
        }
      ]
    }
  ]
}